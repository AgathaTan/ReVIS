{
 "cells": [
  {
   "cell_type": "code",
   "execution_count": null,
   "id": "initial_id",
   "metadata": {
    "collapsed": true
   },
   "outputs": [],
   "source": [
    "import torch\n",
    "import matplotlib.pyplot as plt\n",
    "from torchvision import transforms\n",
    "from PIL import Image"
   ]
  },
  {
   "metadata": {},
   "cell_type": "code",
   "outputs": [],
   "execution_count": null,
   "source": [
    "def latent_to_img(latents,vae):\n",
    "    \"\"\"use vae decoder from stable-diffusion-v1-5 to generate image\"\"\"\n",
    "    latents = (1/0.18215) * latents\n",
    "    with torch.no_grad():\n",
    "        image = vae.decode(latents).sample\n",
    "\n",
    "    image = (image / 2 + 0.5).clamp(0,1)\n",
    "    image = image.detach().cpu().permute(0,2,3,1).numpy()\n",
    "    images = (image * 255).round().astype(\"uint8\")\n",
    "    recon_images = [Image.fromarray(image) for image in images ]\n",
    "    return recon_images"
   ],
   "id": "f5c4e9028feaf89a"
  }
 ],
 "metadata": {
  "kernelspec": {
   "display_name": "Python 3",
   "language": "python",
   "name": "python3"
  },
  "language_info": {
   "codemirror_mode": {
    "name": "ipython",
    "version": 2
   },
   "file_extension": ".py",
   "mimetype": "text/x-python",
   "name": "python",
   "nbconvert_exporter": "python",
   "pygments_lexer": "ipython2",
   "version": "2.7.6"
  }
 },
 "nbformat": 4,
 "nbformat_minor": 5
}
